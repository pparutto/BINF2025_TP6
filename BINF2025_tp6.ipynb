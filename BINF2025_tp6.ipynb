{
 "cells": [
  {
   "cell_type": "markdown",
   "metadata": {
    "colab_type": "text",
    "id": "view-in-github"
   },
   "source": [
    "<a href=\"https://colab.research.google.com/github/pparutto/BINF2025_TP6/blob/main/BINF2025_tp6.ipynb\" target=\"_parent\"><img src=\"https://colab.research.google.com/assets/colab-badge.svg\" alt=\"Open In Colab\"/></a>"
   ]
  },
  {
   "cell_type": "markdown",
   "metadata": {
    "id": "x3gbtL4QjAil"
   },
   "source": [
    "## BINF TP6 : bases de données métaboliques et rdkit\n",
    "\n",
    "Les bases de données métaboliques stockent des informations sur les composés et réaction chimiques présentes chez différents organismes ainsi que les enzymes associées. rdkit est une bibliothèque de manipulation de composés et réactions chimiques.\n",
    "\n",
    "Installons rdkit :"
   ]
  },
  {
   "cell_type": "code",
   "execution_count": 1,
   "metadata": {
    "id": "N5fiDGAcmwW1"
   },
   "outputs": [
    {
     "name": "stdout",
     "output_type": "stream",
     "text": [
      "Defaulting to user installation because normal site-packages is not writeable\n",
      "Collecting rdkit\n",
      "  Downloading rdkit-2025.3.2-cp310-cp310-manylinux_2_28_x86_64.whl.metadata (4.0 kB)\n",
      "Requirement already satisfied: numpy in /home/altaria/.local/lib/python3.10/site-packages (from rdkit) (2.2.3)\n",
      "Requirement already satisfied: Pillow in /home/altaria/.local/lib/python3.10/site-packages (from rdkit) (11.1.0)\n",
      "Downloading rdkit-2025.3.2-cp310-cp310-manylinux_2_28_x86_64.whl (35.2 MB)\n",
      "\u001b[2K   \u001b[90m━━━━━━━━━━━━━━━━━━━━━━━━━━━━━━━━━━━━━━━━\u001b[0m \u001b[32m35.2/35.2 MB\u001b[0m \u001b[31m5.8 MB/s\u001b[0m eta \u001b[36m0:00:00\u001b[0m00:01\u001b[0m00:01\u001b[0m\n",
      "Installing collected packages: rdkit\n",
      "Successfully installed rdkit-2025.3.2\n",
      "\n",
      "\u001b[1m[\u001b[0m\u001b[34;49mnotice\u001b[0m\u001b[1;39;49m]\u001b[0m\u001b[39;49m A new release of pip is available: \u001b[0m\u001b[31;49m25.0.1\u001b[0m\u001b[39;49m -> \u001b[0m\u001b[32;49m25.1.1\u001b[0m\n",
      "\u001b[1m[\u001b[0m\u001b[34;49mnotice\u001b[0m\u001b[1;39;49m]\u001b[0m\u001b[39;49m To update, run: \u001b[0m\u001b[32;49mpython3 -m pip install --upgrade pip\u001b[0m\n"
     ]
    }
   ],
   "source": [
    "!pip install rdkit"
   ]
  },
  {
   "cell_type": "markdown",
   "metadata": {
    "id": "qgWmNE_-mun5"
   },
   "source": [
    "## Exercice 1 : Base de données Kegg et visualisation du cycle TCA\n",
    "\n",
    "[https://www.genome.jp/kegg/](https://www.genome.jp/kegg/)\n",
    "\n",
    "1. Utilisez le module «pathway » de la base de donnes Kegg pour visualiser le cycle de l’acide citrique. Appelé en anglais : TCA cycle, citric acid cycle ou encore Krebs cycle.\n",
    "2. Combien de reactions contient-il ? On s'intéresse uniquement aux réactions du cycle contenant l'acide citrique."
   ]
  },
  {
   "cell_type": "markdown",
   "metadata": {
    "id": "xReGWi0G5Euo"
   },
   "source": [
    "Le cycle qui contient l'acide citrique contient 21 cycles. 18 sans les doublons. (correction: 9)"
   ]
  },
  {
   "cell_type": "markdown",
   "metadata": {
    "id": "fr0mAXml5Dlv"
   },
   "source": [
    "3. Quels sont les identifiants EC (E.C numbers) associes à chacune de ces réactions."
   ]
  },
  {
   "cell_type": "markdown",
   "metadata": {
    "id": "zzZt_NEm5Jxu"
   },
   "source": [
    "- 1.1.1.42\n",
    "- 1.1.1.42\n",
    "- 1.1.1.41\n",
    "- 4.2.1.3\n",
    "- 4.2.1.3\n",
    "- 2.3.3.1\n",
    "- 2.3.3.3\n",
    "- 2.3.3.5\n",
    "- 1.1.1.37\n",
    "- 1.1.5.4\n",
    "- 4.2.1.2\n",
    "- 1.3.5.1\n",
    "- 6.2.1.4\n",
    "- 6.2.1.5\n",
    "- 2.8.3.18\n",
    "- 2.3.1.61\n",
    "- 1.2.4.2\n",
    "- 1.8.1.4\n",
    "- 1.2.4.2\n",
    "- 1.2.7.11\n",
    "- 1.2.7.3"
   ]
  },
  {
   "cell_type": "markdown",
   "metadata": {
    "id": "9Ccrjixj5LI5"
   },
   "source": [
    "4. Pourquoi certains identifiants EC sont-ils en double ?"
   ]
  },
  {
   "cell_type": "markdown",
   "metadata": {
    "id": "H1H4CqSc5OJw"
   },
   "source": [
    "Si certains identifiants EC sont en double, cela veut dire qu'il y a plusieurs fois la même réaction dans le cycle TCA. (correction: soit même réaction, soit truc bizarre)"
   ]
  },
  {
   "cell_type": "markdown",
   "metadata": {
    "id": "OSXnNhXJ5Q2r"
   },
   "source": [
    "5. Qu’observez-vous de plus à propos de ces EC numbers ?"
   ]
  },
  {
   "cell_type": "markdown",
   "metadata": {
    "id": "jVgDoP7k5SnX"
   },
   "source": [
    "correction : on peut voir des réactions différentes --> réactions qui appartiennent à 4 familles de réaction différentes (1, 2, 4 et 6)"
   ]
  },
  {
   "cell_type": "markdown",
   "metadata": {
    "id": "9_YKyLxU5UCx"
   },
   "source": [
    "Malheureusement la base de données KEGG ne peut pas être téléchargée gratuitement, nous allons donc changer de base de données."
   ]
  },
  {
   "cell_type": "markdown",
   "metadata": {
    "id": "Gpbi8aO6kRFl"
   },
   "source": [
    "## Exercice 2 : Base de données Rhea et visualisation du cycle TCA\n",
    "\n",
    "[https://www.rhea-db.org/](https://www.rhea-db.org/)\n",
    "\n",
    "A L’inverse, la base de données Rhea est téléchargeable, mais elle ne fournit pas de visualisation des voies métaboliques. C’est pour ça que l’on a fait la partie précédente avec KEGG.\n",
    "\n",
    "\n",
    "1. Trouvez les IDs Rhea associés aux EC numbers extraits dans l'exercice précédent. Faites attention à choisir des réactions unidirectionnelles. Si vous avez l’id d’une réaction bidirectionnelle, id+1 et id+2 devraient correspondre aux réactions décomposées dans chaque sens. Faites attention au sens de réaction."
   ]
  },
  {
   "cell_type": "markdown",
   "metadata": {
    "id": "HnDqzpRL5qgU"
   },
   "source": [
    "- 1.1.1.41 : RHEA:23632\n",
    "- 1.1.1.42 : RHEA:19629\n",
    "- 4.2.1.3 : RHEA:10336\n",
    "- 2.3.3.3 : RHEA:16845\n",
    "- 2.3.3.1 : RHEA:16845\n",
    "- 2.3.3.5 : RHEA:23780\n",
    "- 1.1.1.37 : RHEA:21432\n",
    "- 1.1.5.4 : RHEA:30095 / RHEA:46012\n",
    "- 4.2.1.2 : RHEA:12460\n",
    "- 1.3.5.1 : RHEA:27834 / RHEA:40523 / RHEA:75711 / RHEA:13713\n",
    "- 6.2.1.4 : RHEA:22120\n",
    "- 6.2.1.5 : RHEA:17661\n",
    "- 2.8.3.18 : RHEA:35711\n",
    "- 2.3.1.61 : RHEA:15213\n",
    "- 1.2.4.2 : RHEA:12188 \n",
    "- 1.8.1.4 : RHEA:33059\n",
    "- 1.2.7.11 : RHEA:42316 \n",
    "- 1.2.7.3 : RHEA:17297\n",
    "\n",
    "correction : 10337, 19630, 12189, 15215, 22122, 77904, 12462, 21433, 16846"
   ]
  },
  {
   "cell_type": "markdown",
   "metadata": {
    "id": "eanm0mpo5raX"
   },
   "source": [
    "2. Téléchargez Rhea, choisissez le format « rhea-reaction-smiles.tsv ». Quel est ce format ?"
   ]
  },
  {
   "cell_type": "markdown",
   "metadata": {
    "id": "FDpE8Bdq5z6M"
   },
   "source": [
    "Ce format montre des valeurs (ici les SMILES des réactions de Rhea) séparées par des tabulations."
   ]
  },
  {
   "cell_type": "markdown",
   "metadata": {
    "id": "I8SnIgek50oA"
   },
   "source": [
    "3. Chargez ce fichier via RdKit via \"rdChemReactions.ReactionFromSmarts\" du module rdkit.Chem"
   ]
  },
  {
   "cell_type": "code",
   "execution_count": 6,
   "metadata": {},
   "outputs": [
    {
     "name": "stdout",
     "output_type": "stream",
     "text": [
      "BINF2025_tp6.ipynb  README.md  rhea-reaction-smiles.tsv\n"
     ]
    }
   ],
   "source": [
    "!ls"
   ]
  },
  {
   "cell_type": "code",
   "execution_count": 23,
   "metadata": {
    "id": "guPceFEci_lI"
   },
   "outputs": [
    {
     "name": "stdout",
     "output_type": "stream",
     "text": [
      "       10001 CCCCC(N)=O.[H]O[H]>>CCCCC(=O)[O-].[H][N+]([H])([H])[H]\n",
      "0      10002  CCCCC(=O)[O-].[H][N+]([H])([H])[H]>>CCCCC(N)=O...    \n",
      "1      10005                S=C=NCC1=CC=CC=C1>>N#CSCC1=CC=CC=C1    \n",
      "2      10006                N#CSCC1=CC=CC=C1>>S=C=NCC1=CC=CC=C1    \n",
      "3      10009  *OO.*N[C@@H](CS)C(*)=O.*N[C@@H](CS)C(*)=O>>*N[...    \n",
      "4      10010  *N[C@@H](CSSC[C@H](N*)C(*)=O)C(*)=O.*O.[H]O[H]...    \n",
      "...      ...                                                ...    \n",
      "34570  83545  O=C([O-])C1=CC=NC=C1.*N[C@@H](CCCC[NH3+])C(*)=...    \n",
      "34571  83548  C=C(C)C(=O)SCCNC(=O)CCNC(=O)[C@H](O)C(C)(C)COP...    \n",
      "34572  83549  *N[C@@H](CCCCNC(=O)C(=C)C)C(*)=O.CC(C)(COP(=O)...    \n",
      "34573  83552  *N[C@@H](CCCCNC(=O)C(=C)C)C(*)=O.[H]O[H]>>C=C(...    \n",
      "34574  83553  C=C(C)C(=O)[O-].*N[C@@H](CCCC[NH3+])C(*)=O>>*N...    \n",
      "\n",
      "[34575 rows x 2 columns]\n"
     ]
    },
    {
     "name": "stderr",
     "output_type": "stream",
     "text": [
      "/tmp/ipykernel_3032/523443288.py:8: FutureWarning: Series.__getitem__ treating keys as positions is deprecated. In a future version, integer keys will always be treated as labels (consistent with DataFrame behavior). To access a value by position, use `ser.iloc[pos]`\n",
      "  rdC.rdChemReactions.ReactionFromSmarts(df.iloc(0)[0][1])\n"
     ]
    },
    {
     "data": {
      "image/png": "[encoded data removed]",
      "text/plain": [
       "<rdkit.Chem.rdChemReactions.ChemicalReaction at 0x7f79c8609150>"
      ]
     },
     "execution_count": 23,
     "metadata": {},
     "output_type": "execute_result"
    }
   ],
   "source": [
    "import rdkit.Chem as rdC\n",
    "import pandas as pd\n",
    "\n",
    "# Load file\n",
    "df=pd.read_csv('rhea-reaction-smiles.tsv',sep='\\t')\n",
    "print(df)\n",
    "#print(df.iloc(0)[0][0])\n",
    "rdC.rdChemReactions.ReactionFromSmarts(df.iloc(0)[0][1])"
   ]
  },
  {
   "cell_type": "markdown",
   "metadata": {
    "id": "qXWJXyzsk-AE"
   },
   "source": [
    "4. Cherchez dans ces réactions celles associées au cycle TCA en vous basant sur l’ID Rhea."
   ]
  },
  {
   "cell_type": "code",
   "execution_count": 34,
   "metadata": {
    "id": "g0wWVKGwlDFF"
   },
   "outputs": [
    {
     "name": "stdout",
     "output_type": "stream",
     "text": [
      "      10001 CCCCC(N)=O.[H]O[H]>>CCCCC(=O)[O-].[H][N+]([H])([H])[H]\n",
      "4435  19630  O=C([O-])C[C@H](C(=O)[O-])[C@@H](O)C(=O)[O-].N...    \n"
     ]
    },
    {
     "name": "stderr",
     "output_type": "stream",
     "text": [
      "/tmp/ipykernel_3032/3095984707.py:3: FutureWarning: Series.__getitem__ treating keys as positions is deprecated. In a future version, integer keys will always be treated as labels (consistent with DataFrame behavior). To access a value by position, use `ser.iloc[pos]`\n",
      "  rdC.rdChemReactions.ReactionFromSmarts(df.iloc(0)[161][1])\n",
      "/tmp/ipykernel_3032/3095984707.py:4: FutureWarning: Series.__getitem__ treating keys as positions is deprecated. In a future version, integer keys will always be treated as labels (consistent with DataFrame behavior). To access a value by position, use `ser.iloc[pos]`\n",
      "  rdC.rdChemReactions.ReactionFromSmarts(df.iloc(0)[4435][1])\n"
     ]
    },
    {
     "data": {
      "image/png": "[encoded data removed]",
      "text/plain": [
       "<rdkit.Chem.rdChemReactions.ChemicalReaction at 0x7f79c0b3fca0>"
      ]
     },
     "execution_count": 34,
     "metadata": {},
     "output_type": "execute_result"
    }
   ],
   "source": [
    "#print(df[df['10001'] == 19630])\n",
    "#print(df.iloc(0)[161][1])\n",
    "rdC.rdChemReactions.ReactionFromSmarts(df.iloc(0)[161][1])\n",
    "rdC.rdChemReactions.ReactionFromSmarts(df.iloc(0)[4435][1])"
   ]
  },
  {
   "cell_type": "markdown",
   "metadata": {
    "id": "dnysSbI5lF_b"
   },
   "source": [
    "5. Affichez les réactions du cycle TCA, vous pouvez utiliser la fonction display de « IPython.display » sur une réaction, vous devez aussi importer\n",
    "\n",
    "« from rdkit.Chem.Draw import IPythonConsole »"
   ]
  },
  {
   "cell_type": "code",
   "execution_count": 38,
   "metadata": {
    "id": "JU_LNBUNlG4r"
   },
   "outputs": [
    {
     "name": "stderr",
     "output_type": "stream",
     "text": [
      "/tmp/ipykernel_3032/3319746507.py:2: FutureWarning: Series.__getitem__ treating keys as positions is deprecated. In a future version, integer keys will always be treated as labels (consistent with DataFrame behavior). To access a value by position, use `ser.iloc[pos]`\n",
      "  display(rdC.rdChemReactions.ReactionFromSmarts(df.iloc(0)[4435][1]))\n"
     ]
    },
    {
     "data": {
      "image/png": "[encoded data removed]",
      "text/plain": [
       "<rdkit.Chem.rdChemReactions.ChemicalReaction at 0x7f79c0b3f530>"
      ]
     },
     "metadata": {},
     "output_type": "display_data"
    }
   ],
   "source": [
    "from rdkit.Chem.Draw import IPythonConsole\n",
    "display(rdC.rdChemReactions.ReactionFromSmarts(df.iloc(0)[4435][1]))"
   ]
  },
  {
   "cell_type": "markdown",
   "metadata": {
    "id": "wcQSq6_Xly5B"
   },
   "source": [
    "\n",
    "## Exercice 3 : RdKit\n",
    "\n",
    "1.\tPour se familiariser avec Rdkit et le format MOL nous allons faire un parser de MOL.\n",
    "Ecrire la fonction load_mol(fname: str) -> Chem.Mol qui prend un fichier mol en entrée et retourne la molécule associée au format Mol de RdKit.\n",
    "Utilisez Chem.Mol, Chem.EditableMol, m.AddAtom, m.AddBond"
   ]
  },
  {
   "cell_type": "code",
   "execution_count": null,
   "metadata": {
    "id": "566Svv_Ul6ob"
   },
   "outputs": [],
   "source": [
    "print(\"votre code ici !!\")"
   ]
  },
  {
   "cell_type": "markdown",
   "metadata": {
    "id": "4hQPPg09l8ca"
   },
   "source": [
    "\n",
    "2.\tEcrire la fonction raw_formula(m: Chem.Mol) -> str qui retourne la formule brute de la molécule m.\n",
    "Utilisez GetAtoms sur une molécule pour récupérer les listes des atomes et GetSymbol sur un atome pour récupérer son symbole."
   ]
  },
  {
   "cell_type": "code",
   "execution_count": null,
   "metadata": {
    "id": "Oj_ZEr5RmAVW"
   },
   "outputs": [],
   "source": [
    "print(\"votre code ici !!\")"
   ]
  },
  {
   "cell_type": "markdown",
   "metadata": {
    "id": "jHu1nW3-mB6f"
   },
   "source": [
    "3.\tRécupérez les smiles et inchi de la molécule \"citrulline\" à partir des bases de données Rhea et pubchem. Puis :\n",
    "\n",
    "* Comparez les Smiles ;\n",
    "* Chargez les molécules dans rdkit via « Chem.MolFromSmiles» et comparez-les ;\n",
    "* Comparez les formules brutes généré par votre fonction précédente ;\n",
    "* Comparez les smiles générés par « Chem.MolToSmiles » ;\n",
    "* Testez la méthode « m.HasSubstructMatch(m2) »."
   ]
  },
  {
   "cell_type": "code",
   "execution_count": null,
   "metadata": {
    "id": "A0Fi03eJmEHa"
   },
   "outputs": [],
   "source": [
    "print(\"votre code ici !!\")"
   ]
  },
  {
   "cell_type": "markdown",
   "metadata": {
    "id": "-Q49JEHDmFxC"
   },
   "source": [
    "4.\tA quelle molécule correspond ce smiles :\n",
    "\n",
    "C[NH2+] [C@H] 1[C@H] (O) [C@@H] (O) [C@H] (CO) O[C@H] 1O[C@H] 1[C@@H] (O[C@@H] (C) [C@] 1(O) CO) O[C@H] 1[C@H] (O) [C@@H] (OP([O- ] ) ([O- ] ) =O) [C@H] (NC(N) =[NH2+] ) [C@@H] (O) [C@@H] 1NC(N) =[NH2+]"
   ]
  },
  {
   "cell_type": "markdown",
   "metadata": {
    "id": "BbdL_9JsmHCJ"
   },
   "source": [
    "votre réponse ici!"
   ]
  }
 ],
 "metadata": {
  "colab": {
   "authorship_tag": "ABX9TyMlj7yAC/ydT3s7LpoX8Wj2",
   "include_colab_link": true,
   "provenance": []
  },
  "kernelspec": {
   "display_name": "Python 3 (ipykernel)",
   "language": "python",
   "name": "python3"
  },
  "language_info": {
   "codemirror_mode": {
    "name": "ipython",
    "version": 3
   },
   "file_extension": ".py",
   "mimetype": "text/x-python",
   "name": "python",
   "nbconvert_exporter": "python",
   "pygments_lexer": "ipython3",
   "version": "3.10.12"
  }
 },
 "nbformat": 4,
 "nbformat_minor": 4
}
